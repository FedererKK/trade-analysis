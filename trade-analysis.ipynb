{
 "cells": [
  {
   "cell_type": "code",
   "execution_count": 21,
   "metadata": {},
   "outputs": [],
   "source": [
    "import pandas as pd\n",
    "import numpy as np\n",
    "import plotly.express as px\n",
    "import plotly.graph_objects as go\n",
    "import datetime"
   ]
  },
  {
   "cell_type": "code",
   "execution_count": 31,
   "metadata": {},
   "outputs": [],
   "source": [
    "df = pd.read_csv('data.csv', index_col=0, parse_dates=True, infer_datetime_format=True, low_memory=False)"
   ]
  },
  {
   "cell_type": "code",
   "execution_count": 35,
   "metadata": {},
   "outputs": [],
   "source": [
    "def fromNsTimestampToDatetime(timestamp):\n",
    "    return datetime.datetime.fromtimestamp(timestamp / 1e6)\n",
    "\n",
    "df['date'] = df['timestamp'].apply(fromNsTimestampToDatetime)"
   ]
  },
  {
   "cell_type": "code",
   "execution_count": 36,
   "metadata": {},
   "outputs": [
    {
     "data": {
      "text/html": [
       "<div>\n",
       "<style scoped>\n",
       "    .dataframe tbody tr th:only-of-type {\n",
       "        vertical-align: middle;\n",
       "    }\n",
       "\n",
       "    .dataframe tbody tr th {\n",
       "        vertical-align: top;\n",
       "    }\n",
       "\n",
       "    .dataframe thead th {\n",
       "        text-align: right;\n",
       "    }\n",
       "</style>\n",
       "<table border=\"1\" class=\"dataframe\">\n",
       "  <thead>\n",
       "    <tr style=\"text-align: right;\">\n",
       "      <th></th>\n",
       "      <th>symbol</th>\n",
       "      <th>timestamp</th>\n",
       "      <th>local_timestamp</th>\n",
       "      <th>asks[0].price</th>\n",
       "      <th>asks[0].amount</th>\n",
       "      <th>bids[0].price</th>\n",
       "      <th>bids[0].amount</th>\n",
       "      <th>asks[1].price</th>\n",
       "      <th>asks[1].amount</th>\n",
       "      <th>bids[1].price</th>\n",
       "      <th>...</th>\n",
       "      <th>bids[2].amount</th>\n",
       "      <th>asks[3].price</th>\n",
       "      <th>asks[3].amount</th>\n",
       "      <th>bids[3].price</th>\n",
       "      <th>bids[3].amount</th>\n",
       "      <th>asks[4].price</th>\n",
       "      <th>asks[4].amount</th>\n",
       "      <th>bids[4].price</th>\n",
       "      <th>bids[4].amount</th>\n",
       "      <th>date</th>\n",
       "    </tr>\n",
       "    <tr>\n",
       "      <th>exchange</th>\n",
       "      <th></th>\n",
       "      <th></th>\n",
       "      <th></th>\n",
       "      <th></th>\n",
       "      <th></th>\n",
       "      <th></th>\n",
       "      <th></th>\n",
       "      <th></th>\n",
       "      <th></th>\n",
       "      <th></th>\n",
       "      <th></th>\n",
       "      <th></th>\n",
       "      <th></th>\n",
       "      <th></th>\n",
       "      <th></th>\n",
       "      <th></th>\n",
       "      <th></th>\n",
       "      <th></th>\n",
       "      <th></th>\n",
       "      <th></th>\n",
       "      <th></th>\n",
       "    </tr>\n",
       "  </thead>\n",
       "  <tbody>\n",
       "    <tr>\n",
       "      <th>ftx</th>\n",
       "      <td>BTC-PERP</td>\n",
       "      <td>1619481600260874</td>\n",
       "      <td>1619481600280633</td>\n",
       "      <td>54059</td>\n",
       "      <td>5.1795</td>\n",
       "      <td>54058</td>\n",
       "      <td>0.0600</td>\n",
       "      <td>54060</td>\n",
       "      <td>0.1665</td>\n",
       "      <td>54051</td>\n",
       "      <td>...</td>\n",
       "      <td>0.0935</td>\n",
       "      <td>54067</td>\n",
       "      <td>1.1252</td>\n",
       "      <td>54047</td>\n",
       "      <td>0.3138</td>\n",
       "      <td>54068</td>\n",
       "      <td>0.3668</td>\n",
       "      <td>54046</td>\n",
       "      <td>0.1487</td>\n",
       "      <td>2021-04-27 02:00:00.260874</td>\n",
       "    </tr>\n",
       "    <tr>\n",
       "      <th>ftx</th>\n",
       "      <td>BTC-PERP</td>\n",
       "      <td>1619481600335591</td>\n",
       "      <td>1619481600358205</td>\n",
       "      <td>54059</td>\n",
       "      <td>5.1795</td>\n",
       "      <td>54058</td>\n",
       "      <td>0.0600</td>\n",
       "      <td>54060</td>\n",
       "      <td>0.1665</td>\n",
       "      <td>54051</td>\n",
       "      <td>...</td>\n",
       "      <td>0.0935</td>\n",
       "      <td>54067</td>\n",
       "      <td>1.1252</td>\n",
       "      <td>54047</td>\n",
       "      <td>0.3138</td>\n",
       "      <td>54068</td>\n",
       "      <td>0.3668</td>\n",
       "      <td>54046</td>\n",
       "      <td>0.1487</td>\n",
       "      <td>2021-04-27 02:00:00.335591</td>\n",
       "    </tr>\n",
       "    <tr>\n",
       "      <th>ftx</th>\n",
       "      <td>BTC-PERP</td>\n",
       "      <td>1619481600416152</td>\n",
       "      <td>1619481600434715</td>\n",
       "      <td>54059</td>\n",
       "      <td>5.1795</td>\n",
       "      <td>54051</td>\n",
       "      <td>0.0500</td>\n",
       "      <td>54060</td>\n",
       "      <td>0.1665</td>\n",
       "      <td>54050</td>\n",
       "      <td>...</td>\n",
       "      <td>0.3138</td>\n",
       "      <td>54067</td>\n",
       "      <td>1.1252</td>\n",
       "      <td>54046</td>\n",
       "      <td>0.1487</td>\n",
       "      <td>54068</td>\n",
       "      <td>0.3668</td>\n",
       "      <td>54045</td>\n",
       "      <td>3.1385</td>\n",
       "      <td>2021-04-27 02:00:00.416152</td>\n",
       "    </tr>\n",
       "    <tr>\n",
       "      <th>ftx</th>\n",
       "      <td>BTC-PERP</td>\n",
       "      <td>1619481600689763</td>\n",
       "      <td>1619481600730319</td>\n",
       "      <td>54051</td>\n",
       "      <td>0.1200</td>\n",
       "      <td>54045</td>\n",
       "      <td>0.1306</td>\n",
       "      <td>54052</td>\n",
       "      <td>0.3440</td>\n",
       "      <td>54044</td>\n",
       "      <td>...</td>\n",
       "      <td>0.2708</td>\n",
       "      <td>54058</td>\n",
       "      <td>0.8700</td>\n",
       "      <td>54041</td>\n",
       "      <td>0.0944</td>\n",
       "      <td>54059</td>\n",
       "      <td>6.0314</td>\n",
       "      <td>54040</td>\n",
       "      <td>2.0926</td>\n",
       "      <td>2021-04-27 02:00:00.689763</td>\n",
       "    </tr>\n",
       "    <tr>\n",
       "      <th>ftx</th>\n",
       "      <td>BTC-PERP</td>\n",
       "      <td>1619481600935299</td>\n",
       "      <td>1619481600988681</td>\n",
       "      <td>54048</td>\n",
       "      <td>0.0600</td>\n",
       "      <td>54040</td>\n",
       "      <td>0.0100</td>\n",
       "      <td>54049</td>\n",
       "      <td>27.8292</td>\n",
       "      <td>54039</td>\n",
       "      <td>...</td>\n",
       "      <td>2.1396</td>\n",
       "      <td>54052</td>\n",
       "      <td>25.2858</td>\n",
       "      <td>54033</td>\n",
       "      <td>0.0925</td>\n",
       "      <td>54058</td>\n",
       "      <td>0.8200</td>\n",
       "      <td>54032</td>\n",
       "      <td>0.2126</td>\n",
       "      <td>2021-04-27 02:00:00.935299</td>\n",
       "    </tr>\n",
       "  </tbody>\n",
       "</table>\n",
       "<p>5 rows × 24 columns</p>\n",
       "</div>"
      ],
      "text/plain": [
       "            symbol         timestamp   local_timestamp  asks[0].price  \\\n",
       "exchange                                                                \n",
       "ftx       BTC-PERP  1619481600260874  1619481600280633          54059   \n",
       "ftx       BTC-PERP  1619481600335591  1619481600358205          54059   \n",
       "ftx       BTC-PERP  1619481600416152  1619481600434715          54059   \n",
       "ftx       BTC-PERP  1619481600689763  1619481600730319          54051   \n",
       "ftx       BTC-PERP  1619481600935299  1619481600988681          54048   \n",
       "\n",
       "          asks[0].amount  bids[0].price  bids[0].amount  asks[1].price  \\\n",
       "exchange                                                                 \n",
       "ftx               5.1795          54058          0.0600          54060   \n",
       "ftx               5.1795          54058          0.0600          54060   \n",
       "ftx               5.1795          54051          0.0500          54060   \n",
       "ftx               0.1200          54045          0.1306          54052   \n",
       "ftx               0.0600          54040          0.0100          54049   \n",
       "\n",
       "          asks[1].amount  bids[1].price  ...  bids[2].amount  asks[3].price  \\\n",
       "exchange                                 ...                                  \n",
       "ftx               0.1665          54051  ...          0.0935          54067   \n",
       "ftx               0.1665          54051  ...          0.0935          54067   \n",
       "ftx               0.1665          54050  ...          0.3138          54067   \n",
       "ftx               0.3440          54044  ...          0.2708          54058   \n",
       "ftx              27.8292          54039  ...          2.1396          54052   \n",
       "\n",
       "          asks[3].amount  bids[3].price  bids[3].amount  asks[4].price  \\\n",
       "exchange                                                                 \n",
       "ftx               1.1252          54047          0.3138          54068   \n",
       "ftx               1.1252          54047          0.3138          54068   \n",
       "ftx               1.1252          54046          0.1487          54068   \n",
       "ftx               0.8700          54041          0.0944          54059   \n",
       "ftx              25.2858          54033          0.0925          54058   \n",
       "\n",
       "          asks[4].amount  bids[4].price  bids[4].amount  \\\n",
       "exchange                                                  \n",
       "ftx               0.3668          54046          0.1487   \n",
       "ftx               0.3668          54046          0.1487   \n",
       "ftx               0.3668          54045          3.1385   \n",
       "ftx               6.0314          54040          2.0926   \n",
       "ftx               0.8200          54032          0.2126   \n",
       "\n",
       "                               date  \n",
       "exchange                             \n",
       "ftx      2021-04-27 02:00:00.260874  \n",
       "ftx      2021-04-27 02:00:00.335591  \n",
       "ftx      2021-04-27 02:00:00.416152  \n",
       "ftx      2021-04-27 02:00:00.689763  \n",
       "ftx      2021-04-27 02:00:00.935299  \n",
       "\n",
       "[5 rows x 24 columns]"
      ]
     },
     "execution_count": 36,
     "metadata": {},
     "output_type": "execute_result"
    }
   ],
   "source": [
    "df.head()"
   ]
  },
  {
   "cell_type": "code",
   "execution_count": 74,
   "metadata": {},
   "outputs": [
    {
     "data": {
      "text/plain": [
       "Index(['bids[0].amount', 'bids[1].amount', 'bids[2].amount', 'bids[3].amount',\n",
       "       'bids[4].amount'],\n",
       "      dtype='object')"
      ]
     },
     "execution_count": 74,
     "metadata": {},
     "output_type": "execute_result"
    }
   ],
   "source": [
    "# find col names for bid,asks, and trades\n",
    "ask_price_cols = df.columns[(df.columns.str.startswith('ask')) & (df.columns.str.endswith('price'))]\n",
    "ask_amount_cols = df.columns[(df.columns.str.startswith('ask')) & (df.columns.str.endswith('amount'))]\n",
    "bid_price_cols = df.columns[(df.columns.str.startswith('bid')) & (df.columns.str.endswith('price'))]\n",
    "bid_amount_cols = df.columns[(df.columns.str.startswith('bid')) & (df.columns.str.endswith('amount'))]\n",
    "\n",
    "bid_amount_cols"
   ]
  },
  {
   "cell_type": "code",
   "execution_count": 75,
   "metadata": {},
   "outputs": [],
   "source": [
    "def RowToOrders(row):\n",
    "    limit_orders = []\n",
    "\n",
    "    for x,y,z in zip(row[ask_price_cols].values, row[ask_amount_cols].values, ['A']*5):\n",
    "        limit_orders.append({'price': x, 'amount': y, 'side': z})\n",
    "    \n",
    "    for x,y,z in zip(row[bid_price_cols].values, row[bid_amount_cols].values, ['B']*5):\n",
    "        limit_orders.append({'price': x, 'amount': y, 'side': z})\n",
    "\n",
    "    return limit_orders"
   ]
  },
  {
   "cell_type": "code",
   "execution_count": 140,
   "metadata": {},
   "outputs": [],
   "source": [
    "def RowToOrders(row):\n",
    "    limit_price, amount, side = [], [], []\n",
    "\n",
    "    for x,y,z in zip(row[ask_price_cols].values, row[ask_amount_cols].values, ['A']*5):\n",
    "        limit_price.append(x)\n",
    "        amount.append(y)\n",
    "        side.append(z)\n",
    "    \n",
    "    for x,y,z in zip(row[bid_price_cols].values, row[bid_amount_cols].values, ['B']*5):\n",
    "        limit_price.append(x)\n",
    "        amount.append(y)\n",
    "        side.append(z)\n",
    "\n",
    "    return [limit_price, amount, side, row['date']]"
   ]
  },
  {
   "cell_type": "code",
   "execution_count": 141,
   "metadata": {},
   "outputs": [
    {
     "data": {
      "text/plain": [
       "[[54059, 54060, 54063, 54067, 54068, 54058, 54051, 54050, 54047, 54046],\n",
       " [5.1795, 0.1665, 0.1196, 1.1252, 0.3668, 0.06, 0.1, 0.0935, 0.3138, 0.1487],\n",
       " ['A', 'A', 'A', 'A', 'A', 'B', 'B', 'B', 'B', 'B'],\n",
       " Timestamp('2021-04-27 02:00:00.335591')]"
      ]
     },
     "execution_count": 141,
     "metadata": {},
     "output_type": "execute_result"
    }
   ],
   "source": [
    "ob = RowToOrders(df.iloc[1])\n",
    "ob"
   ]
  },
  {
   "cell_type": "code",
   "execution_count": 161,
   "metadata": {},
   "outputs": [],
   "source": [
    "colors = {'A':'firebrick',\n",
    "          'B':'green'}\n",
    "\n",
    "def ListOfDictToPlot(row):\n",
    "    fig = go.Figure()\n",
    "    fig.add_trace(go.Bar(x=row[0], y=row[1],marker_color=[colors[i] for i in ob[2]]))\n",
    "    fig.update_xaxes(range=[54000,54100])\n",
    "    fig.update_layout(\n",
    "        xaxis_tickprefix = '$',\n",
    "        xaxis_tickformat =',',\n",
    "        xaxis_title = 'Limit Price',\n",
    "        yaxis_title = 'Amount',\n",
    "        title = str(row[3])\n",
    "        )\n",
    "    fig.show()"
   ]
  },
  {
   "cell_type": "code",
   "execution_count": 162,
   "metadata": {},
   "outputs": [
    {
     "data": {
      "application/vnd.plotly.v1+json": {
       "config": {
        "plotlyServerURL": "https://plot.ly"
       },
       "data": [
        {
         "marker": {
          "color": [
           "firebrick",
           "firebrick",
           "firebrick",
           "firebrick",
           "firebrick",
           "green",
           "green",
           "green",
           "green",
           "green"
          ]
         },
         "type": "bar",
         "x": [
          54059,
          54060,
          54063,
          54067,
          54068,
          54058,
          54051,
          54050,
          54047,
          54046
         ],
         "y": [
          5.1795,
          0.1665,
          0.1196,
          1.1252,
          0.3668,
          0.06,
          0.4015,
          0.0935,
          0.3138,
          0.1487
         ]
        }
       ],
       "layout": {
        "template": {
         "data": {
          "bar": [
           {
            "error_x": {
             "color": "#2a3f5f"
            },
            "error_y": {
             "color": "#2a3f5f"
            },
            "marker": {
             "line": {
              "color": "#E5ECF6",
              "width": 0.5
             },
             "pattern": {
              "fillmode": "overlay",
              "size": 10,
              "solidity": 0.2
             }
            },
            "type": "bar"
           }
          ],
          "barpolar": [
           {
            "marker": {
             "line": {
              "color": "#E5ECF6",
              "width": 0.5
             },
             "pattern": {
              "fillmode": "overlay",
              "size": 10,
              "solidity": 0.2
             }
            },
            "type": "barpolar"
           }
          ],
          "carpet": [
           {
            "aaxis": {
             "endlinecolor": "#2a3f5f",
             "gridcolor": "white",
             "linecolor": "white",
             "minorgridcolor": "white",
             "startlinecolor": "#2a3f5f"
            },
            "baxis": {
             "endlinecolor": "#2a3f5f",
             "gridcolor": "white",
             "linecolor": "white",
             "minorgridcolor": "white",
             "startlinecolor": "#2a3f5f"
            },
            "type": "carpet"
           }
          ],
          "choropleth": [
           {
            "colorbar": {
             "outlinewidth": 0,
             "ticks": ""
            },
            "type": "choropleth"
           }
          ],
          "contour": [
           {
            "colorbar": {
             "outlinewidth": 0,
             "ticks": ""
            },
            "colorscale": [
             [
              0,
              "#0d0887"
             ],
             [
              0.1111111111111111,
              "#46039f"
             ],
             [
              0.2222222222222222,
              "#7201a8"
             ],
             [
              0.3333333333333333,
              "#9c179e"
             ],
             [
              0.4444444444444444,
              "#bd3786"
             ],
             [
              0.5555555555555556,
              "#d8576b"
             ],
             [
              0.6666666666666666,
              "#ed7953"
             ],
             [
              0.7777777777777778,
              "#fb9f3a"
             ],
             [
              0.8888888888888888,
              "#fdca26"
             ],
             [
              1,
              "#f0f921"
             ]
            ],
            "type": "contour"
           }
          ],
          "contourcarpet": [
           {
            "colorbar": {
             "outlinewidth": 0,
             "ticks": ""
            },
            "type": "contourcarpet"
           }
          ],
          "heatmap": [
           {
            "colorbar": {
             "outlinewidth": 0,
             "ticks": ""
            },
            "colorscale": [
             [
              0,
              "#0d0887"
             ],
             [
              0.1111111111111111,
              "#46039f"
             ],
             [
              0.2222222222222222,
              "#7201a8"
             ],
             [
              0.3333333333333333,
              "#9c179e"
             ],
             [
              0.4444444444444444,
              "#bd3786"
             ],
             [
              0.5555555555555556,
              "#d8576b"
             ],
             [
              0.6666666666666666,
              "#ed7953"
             ],
             [
              0.7777777777777778,
              "#fb9f3a"
             ],
             [
              0.8888888888888888,
              "#fdca26"
             ],
             [
              1,
              "#f0f921"
             ]
            ],
            "type": "heatmap"
           }
          ],
          "heatmapgl": [
           {
            "colorbar": {
             "outlinewidth": 0,
             "ticks": ""
            },
            "colorscale": [
             [
              0,
              "#0d0887"
             ],
             [
              0.1111111111111111,
              "#46039f"
             ],
             [
              0.2222222222222222,
              "#7201a8"
             ],
             [
              0.3333333333333333,
              "#9c179e"
             ],
             [
              0.4444444444444444,
              "#bd3786"
             ],
             [
              0.5555555555555556,
              "#d8576b"
             ],
             [
              0.6666666666666666,
              "#ed7953"
             ],
             [
              0.7777777777777778,
              "#fb9f3a"
             ],
             [
              0.8888888888888888,
              "#fdca26"
             ],
             [
              1,
              "#f0f921"
             ]
            ],
            "type": "heatmapgl"
           }
          ],
          "histogram": [
           {
            "marker": {
             "pattern": {
              "fillmode": "overlay",
              "size": 10,
              "solidity": 0.2
             }
            },
            "type": "histogram"
           }
          ],
          "histogram2d": [
           {
            "colorbar": {
             "outlinewidth": 0,
             "ticks": ""
            },
            "colorscale": [
             [
              0,
              "#0d0887"
             ],
             [
              0.1111111111111111,
              "#46039f"
             ],
             [
              0.2222222222222222,
              "#7201a8"
             ],
             [
              0.3333333333333333,
              "#9c179e"
             ],
             [
              0.4444444444444444,
              "#bd3786"
             ],
             [
              0.5555555555555556,
              "#d8576b"
             ],
             [
              0.6666666666666666,
              "#ed7953"
             ],
             [
              0.7777777777777778,
              "#fb9f3a"
             ],
             [
              0.8888888888888888,
              "#fdca26"
             ],
             [
              1,
              "#f0f921"
             ]
            ],
            "type": "histogram2d"
           }
          ],
          "histogram2dcontour": [
           {
            "colorbar": {
             "outlinewidth": 0,
             "ticks": ""
            },
            "colorscale": [
             [
              0,
              "#0d0887"
             ],
             [
              0.1111111111111111,
              "#46039f"
             ],
             [
              0.2222222222222222,
              "#7201a8"
             ],
             [
              0.3333333333333333,
              "#9c179e"
             ],
             [
              0.4444444444444444,
              "#bd3786"
             ],
             [
              0.5555555555555556,
              "#d8576b"
             ],
             [
              0.6666666666666666,
              "#ed7953"
             ],
             [
              0.7777777777777778,
              "#fb9f3a"
             ],
             [
              0.8888888888888888,
              "#fdca26"
             ],
             [
              1,
              "#f0f921"
             ]
            ],
            "type": "histogram2dcontour"
           }
          ],
          "mesh3d": [
           {
            "colorbar": {
             "outlinewidth": 0,
             "ticks": ""
            },
            "type": "mesh3d"
           }
          ],
          "parcoords": [
           {
            "line": {
             "colorbar": {
              "outlinewidth": 0,
              "ticks": ""
             }
            },
            "type": "parcoords"
           }
          ],
          "pie": [
           {
            "automargin": true,
            "type": "pie"
           }
          ],
          "scatter": [
           {
            "fillpattern": {
             "fillmode": "overlay",
             "size": 10,
             "solidity": 0.2
            },
            "type": "scatter"
           }
          ],
          "scatter3d": [
           {
            "line": {
             "colorbar": {
              "outlinewidth": 0,
              "ticks": ""
             }
            },
            "marker": {
             "colorbar": {
              "outlinewidth": 0,
              "ticks": ""
             }
            },
            "type": "scatter3d"
           }
          ],
          "scattercarpet": [
           {
            "marker": {
             "colorbar": {
              "outlinewidth": 0,
              "ticks": ""
             }
            },
            "type": "scattercarpet"
           }
          ],
          "scattergeo": [
           {
            "marker": {
             "colorbar": {
              "outlinewidth": 0,
              "ticks": ""
             }
            },
            "type": "scattergeo"
           }
          ],
          "scattergl": [
           {
            "marker": {
             "colorbar": {
              "outlinewidth": 0,
              "ticks": ""
             }
            },
            "type": "scattergl"
           }
          ],
          "scattermapbox": [
           {
            "marker": {
             "colorbar": {
              "outlinewidth": 0,
              "ticks": ""
             }
            },
            "type": "scattermapbox"
           }
          ],
          "scatterpolar": [
           {
            "marker": {
             "colorbar": {
              "outlinewidth": 0,
              "ticks": ""
             }
            },
            "type": "scatterpolar"
           }
          ],
          "scatterpolargl": [
           {
            "marker": {
             "colorbar": {
              "outlinewidth": 0,
              "ticks": ""
             }
            },
            "type": "scatterpolargl"
           }
          ],
          "scatterternary": [
           {
            "marker": {
             "colorbar": {
              "outlinewidth": 0,
              "ticks": ""
             }
            },
            "type": "scatterternary"
           }
          ],
          "surface": [
           {
            "colorbar": {
             "outlinewidth": 0,
             "ticks": ""
            },
            "colorscale": [
             [
              0,
              "#0d0887"
             ],
             [
              0.1111111111111111,
              "#46039f"
             ],
             [
              0.2222222222222222,
              "#7201a8"
             ],
             [
              0.3333333333333333,
              "#9c179e"
             ],
             [
              0.4444444444444444,
              "#bd3786"
             ],
             [
              0.5555555555555556,
              "#d8576b"
             ],
             [
              0.6666666666666666,
              "#ed7953"
             ],
             [
              0.7777777777777778,
              "#fb9f3a"
             ],
             [
              0.8888888888888888,
              "#fdca26"
             ],
             [
              1,
              "#f0f921"
             ]
            ],
            "type": "surface"
           }
          ],
          "table": [
           {
            "cells": {
             "fill": {
              "color": "#EBF0F8"
             },
             "line": {
              "color": "white"
             }
            },
            "header": {
             "fill": {
              "color": "#C8D4E3"
             },
             "line": {
              "color": "white"
             }
            },
            "type": "table"
           }
          ]
         },
         "layout": {
          "annotationdefaults": {
           "arrowcolor": "#2a3f5f",
           "arrowhead": 0,
           "arrowwidth": 1
          },
          "autotypenumbers": "strict",
          "coloraxis": {
           "colorbar": {
            "outlinewidth": 0,
            "ticks": ""
           }
          },
          "colorscale": {
           "diverging": [
            [
             0,
             "#8e0152"
            ],
            [
             0.1,
             "#c51b7d"
            ],
            [
             0.2,
             "#de77ae"
            ],
            [
             0.3,
             "#f1b6da"
            ],
            [
             0.4,
             "#fde0ef"
            ],
            [
             0.5,
             "#f7f7f7"
            ],
            [
             0.6,
             "#e6f5d0"
            ],
            [
             0.7,
             "#b8e186"
            ],
            [
             0.8,
             "#7fbc41"
            ],
            [
             0.9,
             "#4d9221"
            ],
            [
             1,
             "#276419"
            ]
           ],
           "sequential": [
            [
             0,
             "#0d0887"
            ],
            [
             0.1111111111111111,
             "#46039f"
            ],
            [
             0.2222222222222222,
             "#7201a8"
            ],
            [
             0.3333333333333333,
             "#9c179e"
            ],
            [
             0.4444444444444444,
             "#bd3786"
            ],
            [
             0.5555555555555556,
             "#d8576b"
            ],
            [
             0.6666666666666666,
             "#ed7953"
            ],
            [
             0.7777777777777778,
             "#fb9f3a"
            ],
            [
             0.8888888888888888,
             "#fdca26"
            ],
            [
             1,
             "#f0f921"
            ]
           ],
           "sequentialminus": [
            [
             0,
             "#0d0887"
            ],
            [
             0.1111111111111111,
             "#46039f"
            ],
            [
             0.2222222222222222,
             "#7201a8"
            ],
            [
             0.3333333333333333,
             "#9c179e"
            ],
            [
             0.4444444444444444,
             "#bd3786"
            ],
            [
             0.5555555555555556,
             "#d8576b"
            ],
            [
             0.6666666666666666,
             "#ed7953"
            ],
            [
             0.7777777777777778,
             "#fb9f3a"
            ],
            [
             0.8888888888888888,
             "#fdca26"
            ],
            [
             1,
             "#f0f921"
            ]
           ]
          },
          "colorway": [
           "#636efa",
           "#EF553B",
           "#00cc96",
           "#ab63fa",
           "#FFA15A",
           "#19d3f3",
           "#FF6692",
           "#B6E880",
           "#FF97FF",
           "#FECB52"
          ],
          "font": {
           "color": "#2a3f5f"
          },
          "geo": {
           "bgcolor": "white",
           "lakecolor": "white",
           "landcolor": "#E5ECF6",
           "showlakes": true,
           "showland": true,
           "subunitcolor": "white"
          },
          "hoverlabel": {
           "align": "left"
          },
          "hovermode": "closest",
          "mapbox": {
           "style": "light"
          },
          "paper_bgcolor": "white",
          "plot_bgcolor": "#E5ECF6",
          "polar": {
           "angularaxis": {
            "gridcolor": "white",
            "linecolor": "white",
            "ticks": ""
           },
           "bgcolor": "#E5ECF6",
           "radialaxis": {
            "gridcolor": "white",
            "linecolor": "white",
            "ticks": ""
           }
          },
          "scene": {
           "xaxis": {
            "backgroundcolor": "#E5ECF6",
            "gridcolor": "white",
            "gridwidth": 2,
            "linecolor": "white",
            "showbackground": true,
            "ticks": "",
            "zerolinecolor": "white"
           },
           "yaxis": {
            "backgroundcolor": "#E5ECF6",
            "gridcolor": "white",
            "gridwidth": 2,
            "linecolor": "white",
            "showbackground": true,
            "ticks": "",
            "zerolinecolor": "white"
           },
           "zaxis": {
            "backgroundcolor": "#E5ECF6",
            "gridcolor": "white",
            "gridwidth": 2,
            "linecolor": "white",
            "showbackground": true,
            "ticks": "",
            "zerolinecolor": "white"
           }
          },
          "shapedefaults": {
           "line": {
            "color": "#2a3f5f"
           }
          },
          "ternary": {
           "aaxis": {
            "gridcolor": "white",
            "linecolor": "white",
            "ticks": ""
           },
           "baxis": {
            "gridcolor": "white",
            "linecolor": "white",
            "ticks": ""
           },
           "bgcolor": "#E5ECF6",
           "caxis": {
            "gridcolor": "white",
            "linecolor": "white",
            "ticks": ""
           }
          },
          "title": {
           "x": 0.05
          },
          "xaxis": {
           "automargin": true,
           "gridcolor": "white",
           "linecolor": "white",
           "ticks": "",
           "title": {
            "standoff": 15
           },
           "zerolinecolor": "white",
           "zerolinewidth": 2
          },
          "yaxis": {
           "automargin": true,
           "gridcolor": "white",
           "linecolor": "white",
           "ticks": "",
           "title": {
            "standoff": 15
           },
           "zerolinecolor": "white",
           "zerolinewidth": 2
          }
         }
        },
        "title": {
         "text": "2021-04-27 02:00:00.260874"
        },
        "xaxis": {
         "range": [
          54000,
          54100
         ],
         "tickformat": ",",
         "tickprefix": "$",
         "title": {
          "text": "Limit Price"
         }
        },
        "yaxis": {
         "title": {
          "text": "Amount"
         }
        }
       }
      }
     },
     "metadata": {},
     "output_type": "display_data"
    }
   ],
   "source": [
    "for i in range(1):\n",
    "    ListOfDictToPlot(RowToOrders(df.iloc[i]))"
   ]
  },
  {
   "cell_type": "code",
   "execution_count": null,
   "metadata": {},
   "outputs": [],
   "source": []
  },
  {
   "cell_type": "code",
   "execution_count": null,
   "metadata": {},
   "outputs": [],
   "source": []
  }
 ],
 "metadata": {
  "kernelspec": {
   "display_name": "Python 3.9.13 ('base')",
   "language": "python",
   "name": "python3"
  },
  "language_info": {
   "codemirror_mode": {
    "name": "ipython",
    "version": 3
   },
   "file_extension": ".py",
   "mimetype": "text/x-python",
   "name": "python",
   "nbconvert_exporter": "python",
   "pygments_lexer": "ipython3",
   "version": "3.9.13"
  },
  "orig_nbformat": 4,
  "vscode": {
   "interpreter": {
    "hash": "bfa028811b74dc623cdbfa114f88dee90bcd1f37d2b928680540221ea686a31a"
   }
  }
 },
 "nbformat": 4,
 "nbformat_minor": 2
}
